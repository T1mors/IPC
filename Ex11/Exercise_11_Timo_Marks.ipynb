{
 "cells": [
  {
   "cell_type": "markdown",
   "metadata": {},
   "source": [
    "Exercise 11 by Timo Marks"
   ]
  },
  {
   "cell_type": "code",
   "execution_count": 1,
   "metadata": {},
   "outputs": [],
   "source": [
    "# Done by Timo Marks\n",
    "import numpy as np\n",
    "import matplotlib.pyplot as plt\n",
    "subplot_keywords = {\"xticks\": [0,27], \"yticks\": [0,27]}"
   ]
  },
  {
   "cell_type": "markdown",
   "metadata": {},
   "source": [
    "Get the spam E-Mail Data. Split Dataset into word occurence vector and class label vector (spam/not spam). Divide into training and test data."
   ]
  },
  {
   "cell_type": "code",
   "execution_count": 2,
   "metadata": {},
   "outputs": [],
   "source": [
    "with open(\"spambase.data\", \"r\") as file:\n",
    "    spamdata = [line.split(\",\") for line in file]\n",
    "    spamdata = np.array(spamdata, dtype=\"float\")\n",
    "\n",
    "# the word occurence (0/1) -> columns 1:48\n",
    "vecPosData = np.arange(0,47)\n",
    "# the class-labels (0=not spam / 1=spam) -> column 57\n",
    "vecPosLabel = 57\n",
    "\n",
    "# 80% Train und 20% Test data\n",
    "vecPosTrain = np.concatenate((np.arange(0,1450), np.arange(1813,4042)))\n",
    "vecPosTest = np.concatenate((np.arange(1450,1813), np.arange(4042,4601)))\n",
    "\n",
    "# extract word occurence data and transform to 0/1, noting that sign(x=0) = 0 and sign(x>0) = 1\n",
    "# np.ix_(a,b) quickly construct index arrays that will index the cross product of a and b\n",
    "matDataTrain = np.sign(spamdata[np.ix_(vecPosTrain, vecPosData)])\n",
    "matDataTest = np.sign(spamdata[np.ix_(vecPosTest, vecPosData)])\n",
    "\n",
    "# extract class labels\n",
    "vecLabelTrain = spamdata[vecPosTrain, vecPosLabel]\n",
    "vecLabelTest  = spamdata[vecPosTest,  vecPosLabel]"
   ]
  },
  {
   "cell_type": "markdown",
   "metadata": {},
   "source": [
    "Training"
   ]
  },
  {
   "cell_type": "code",
   "execution_count": 3,
   "metadata": {},
   "outputs": [
    {
     "name": "stdout",
     "output_type": "stream",
     "text": [
      "Portion of Spam mails in Train Dataset is: 39.41%\n",
      "The Documentation states 34.4%. For a good mix in the dataset, these should be relatively close.\n"
     ]
    }
   ],
   "source": [
    "# How often does the attribute (att=j) occur in a spam (1) mail across all spam mails\n",
    "num_spam = np.sum(vecLabelTrain)\n",
    "ones = np.ones(matDataTrain.shape[0])\n",
    "\n",
    "num_spam_att = []\n",
    "for attribute_column in matDataTrain.T:\n",
    "    # Attribute occurs (1) AND it is spam mail (1)\n",
    "    mask = np.asarray(attribute_column == ones) & (vecLabelTrain == ones)\n",
    "    num_spam_att.append(np.sum(attribute_column[mask]))\n",
    "# Probability over all attributes must sum up to 1\n",
    "phi_att_spam = num_spam_att/np.sum(num_spam_att)\n",
    "\n",
    "# How often does the attribute (att=j) occur in a non-spam (0) mail across all non-spam mails\n",
    "num_non_spam = len(vecLabelTrain) - num_spam\n",
    "zeros = np.zeros(matDataTrain.shape[0])\n",
    "\n",
    "num_non_spam_att = []\n",
    "for attribute_column in matDataTrain.T:\n",
    "    # Attribute occurs (1) AND it is NOT spam mail (0)\n",
    "    mask = np.asarray(attribute_column == ones) & (vecLabelTrain == zeros)\n",
    "    num_non_spam_att.append(np.sum(attribute_column[mask]))\n",
    "# Probability over all attributes must sum up to 1\n",
    "phi_att_non_spam = num_non_spam_att/np.sum(num_non_spam_att)\n",
    "\n",
    "# Number of Spam Mails devided by all mails\n",
    "phi_spam = num_spam/(num_spam + num_non_spam)\n",
    "print(f\"Portion of Spam mails in Train Dataset is: {100*phi_spam:.2f}%\")\n",
    "print(\"The Documentation states 34.4%. For a good mix in the dataset, these should be relatively close.\")\n"
   ]
  },
  {
   "cell_type": "markdown",
   "metadata": {},
   "source": [
    "### Testing the algorithm\n",
    "### $p(y=1|x) = \\frac{p(x|y=1)p(y=1)}{p(x)} = \\frac{\\prod_{i=1}^n \\phi_{i|y=1}\\phi_y}{\\prod_{i=1}^n \\phi_{i|y=1} \\phi_y+ \\prod_{i=1}^n \\phi_{i|y=0} (1-\\phi_y)}$\n",
    "$\\phi_y = p(y=1) \\Longrightarrow 1-\\phi_y = p(y=0)$"
   ]
  },
  {
   "cell_type": "code",
   "execution_count": 4,
   "metadata": {},
   "outputs": [],
   "source": [
    "# Input: One (row) vector of matDataTest that contains the sign (1/0) if the attribute is in the Mail.\n",
    "\n",
    "# Probability matrix of mail x being spam or non-spam with these attributes\n",
    "def naive_bayes(matData):\n",
    "    prob_mat = np.empty((matData.shape[0],2))\n",
    "    i=0\n",
    "    for mail_att in matData:\n",
    "        # Compute the phi products\n",
    "        # The dtype=bool converts 1=True, 0=False. So we only multiply the probabilities of the attributes that occur\n",
    "        mask = mail_att.astype(dtype=bool)\n",
    "        prod_phi_att_spam = np.prod(phi_att_spam[mask])\n",
    "        prod_phi_att_non_spam = np.prod(phi_att_non_spam[mask])\n",
    "\n",
    "        # Compute probability that mail x with these attributes is spam or non-spam\n",
    "        denominator = prod_phi_att_spam*phi_spam+prod_phi_att_non_spam*(1-phi_spam)\n",
    "        prob_spam = (prod_phi_att_spam*phi_spam)/denominator\n",
    "        prob_non_spam = (prod_phi_att_non_spam*(1-phi_spam))/denominator\n",
    "        \n",
    "        # Actually we do not need the denominator because we devide both probabilities by the denominator\n",
    "        # Later we just look which probability is higher \n",
    "        # (and maybe by which percent higher than the other) to classify spam\n",
    "\n",
    "        prob_mat[i,0] = prob_spam\n",
    "        prob_mat[i,1] = prob_non_spam\n",
    "        i += 1\n",
    "    return prob_mat"
   ]
  },
  {
   "cell_type": "markdown",
   "metadata": {},
   "source": [
    "Accuracy Functions"
   ]
  },
  {
   "cell_type": "code",
   "execution_count": 5,
   "metadata": {},
   "outputs": [],
   "source": [
    "# We look whether the probability of Spam is higher than Non-Spam Mail (by some threshold)\n",
    "# Threshold in \"percent\". Threshold = 1 means that it Spam prob. just needs to be higher than Non-Spam\n",
    "# Threshold = 2 means that Spam prob. must be twice as high as Non-Spam to be classified as spam\n",
    "\n",
    "def decide_if_spam(prob_mat, threshold):\n",
    "    labeled_spam = np.zeros(prob_mat.shape[0])\n",
    "    \n",
    "    prob_spam_higher = prob_mat[:,0]/prob_mat[:,1]\n",
    "    mask = np.asarray(prob_spam_higher >= threshold)\n",
    "    labeled_spam[mask] += 1\n",
    "\n",
    "    return labeled_spam\n",
    "\n",
    "# Compute accuracy that the Mail is correctly classified as Spam/Non-Spam\n",
    "def accuracy_overall(prob_mat_computed, true_label, threshold=1):\n",
    "    labeled_spam = decide_if_spam(prob_mat_computed, threshold)\n",
    "    accuracy = len(labeled_spam[labeled_spam == true_label])/len(true_label)\n",
    "    return accuracy\n",
    "    "
   ]
  },
  {
   "cell_type": "markdown",
   "metadata": {},
   "source": [
    "# Testing the algorithm"
   ]
  },
  {
   "cell_type": "code",
   "execution_count": 6,
   "metadata": {},
   "outputs": [
    {
     "name": "stdout",
     "output_type": "stream",
     "text": [
      "Accuracy for threshold = 0 for Spam Mail: 39.3709%\n",
      "Percentage of Spam Mails in Test Dataset: 39.3709%\n",
      "Should be equal\n"
     ]
    }
   ],
   "source": [
    "# First we look if the algorithm is correctly implemented. If the threshold is 0, than ALL Mails are classified as spam\n",
    "# So the accuracy should be the same as the number of Spam Mails in the Test dataset devided by all Mails in the Test dataset\n",
    "prob_mat = naive_bayes(matDataTest)\n",
    "print(f\"Accuracy for threshold = 0 for Spam Mail: {100*accuracy_overall(prob_mat, vecLabelTest, 0):.4f}%\")\n",
    "print(f\"Percentage of Spam Mails in Test Dataset: {100*np.sum(vecLabelTest)/len(vecLabelTest):.4f}%\")\n",
    "print(\"Should be equal\")"
   ]
  },
  {
   "cell_type": "markdown",
   "metadata": {},
   "source": [
    "Overall Accuracy that the Mail is correctly classified as Spam or Non-Spam"
   ]
  },
  {
   "cell_type": "code",
   "execution_count": 7,
   "metadata": {},
   "outputs": [
    {
     "data": {
      "text/plain": [
       "(0.0, 100.0)"
      ]
     },
     "execution_count": 7,
     "metadata": {},
     "output_type": "execute_result"
    },
    {
     "data": {
      "image/png": "[encoded data removed]",
      "text/plain": [
       "<Figure size 1080x360 with 3 Axes>"
      ]
     },
     "metadata": {
      "needs_background": "light"
     },
     "output_type": "display_data"
    }
   ],
   "source": [
    "# Now we change the threshold. So threshold = 1 means, the probability for Spam is higher than Non-Spam.\n",
    "# Threshold = 2 means the probability is twice as high for Spam than Non-Spam\n",
    "n = 3\n",
    "\n",
    "# We start at threshold = 10^0=1 until 10^4 because Spam classifier only makes sense if the probability of\n",
    "# Spam is higher, so threshold is atleast 1.\n",
    "fig, ax = plt.subplots(1,3, figsize=(15,5))\n",
    "for (matData, vecLabel, label) in zip([matDataTest, matDataTrain], [vecLabelTest, vecLabelTrain], [\"Test\", \"Training\"]):\n",
    "    accuracy_vec = []\n",
    "    samples = 10000\n",
    "    threshold_vec = np.logspace(0,4,samples)\n",
    "    prob_mat = naive_bayes(matData)\n",
    "    for t in threshold_vec:\n",
    "        accuracy_vec.append(accuracy_overall(prob_mat, vecLabel, t))\n",
    "\n",
    "    ax[0].semilogx(threshold_vec, accuracy_vec, label=label)\n",
    "    ax[1].plot(threshold_vec, accuracy_vec, label=label)\n",
    "    ax[2].plot(threshold_vec, accuracy_vec, label=label)\n",
    "\n",
    "for i in np.arange(n):\n",
    "    ax[i].set_xlabel(\"Threshold\")\n",
    "    ax[i].set_ylabel(\"Accuracy\")\n",
    "    ax[i].legend()\n",
    "ax[2].set_xlim(0,100)"
   ]
  },
  {
   "cell_type": "markdown",
   "metadata": {},
   "source": [
    "We can see, that the accuracy of classifing Spam gets higher if we require that the probability of \"Spam\" is around 10 times as high as \"Non-Spam\". Than we accuracy in the Test Data is around 84%. If we just say, that the probability for Spam is higher(threshold=1) than the accuracy is only around 73%. So we missclassify many more Mails as Spam and if the threshold is too high we missclassify many Spam-Mails as Non-Spam.  \n",
    "\n",
    "Also we can see that the accuracy of the Training Data is much higher. This could indicate that the Training Data is not large enough or that words in a Spam Mail can differ much more, so that Test and Training Data is quite different.  "
   ]
  }
 ],
 "metadata": {
  "kernelspec": {
   "display_name": "Python 3.9.7 ('base')",
   "language": "python",
   "name": "python3"
  },
  "language_info": {
   "codemirror_mode": {
    "name": "ipython",
    "version": 3
   },
   "file_extension": ".py",
   "mimetype": "text/x-python",
   "name": "python",
   "nbconvert_exporter": "python",
   "pygments_lexer": "ipython3",
   "version": "3.9.7"
  },
  "orig_nbformat": 4,
  "vscode": {
   "interpreter": {
    "hash": "0563604907e5a72d17c413dfa60d744d433f248aafeea0a989a8815e85f310ee"
   }
  }
 },
 "nbformat": 4,
 "nbformat_minor": 2
}
