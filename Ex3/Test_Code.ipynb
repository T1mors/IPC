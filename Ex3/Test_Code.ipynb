{
 "cells": [
  {
   "cell_type": "code",
   "execution_count": 1,
   "metadata": {},
   "outputs": [],
   "source": [
    "# Done by Munther Odeh and Timo Marks\n",
    "import numpy as np\n",
    "from matplotlib import pyplot as plt\n",
    "from PIL import Image\n",
    "from skimage.color import rgb2gray\n",
    "from skimage.filters import gabor_kernel\n",
    "from skimage.util import img_as_float\n",
    "from scipy import ndimage as ndi\n",
    "plt.rcParams.update({'font.size': 16, 'legend.title_fontsize': 16, 'legend.fontsize': 16, \"axes.labelsize\": 16, \"axes.labelpad\": 4})\n"
   ]
  },
  {
   "cell_type": "code",
   "execution_count": null,
   "metadata": {},
   "outputs": [],
   "source": [
    "fig = plt.figure(figsize=(20, 20))\n",
    "filename=\"sun-set-rotated.jpg\"\n",
    "img = plt.imread(\"Images/\"+filename)\n",
    "gray_img = rgb2gray(img)\n",
    "\n",
    "fig1 = fig.add_subplot(1,3,1)\n",
    "fig1.imshow(img)\n",
    "fig1.title.set_text('Original Image')\n",
    "\n",
    "fig2 = fig.add_subplot(1,3,2)\n",
    "fig2.imshow(gray_img, cmap=\"gray\")\n",
    "fig2.title.set_text('Converted Image to Gray Scale')"
   ]
  }
 ],
 "metadata": {
  "interpreter": {
   "hash": "c78f920997a3a6581c3194d26f316af68717cea79f71daede8c67743d56a1b4f"
  },
  "kernelspec": {
   "display_name": "Python 3.8.3 ('base')",
   "language": "python",
   "name": "python3"
  },
  "language_info": {
   "codemirror_mode": {
    "name": "ipython",
    "version": 3
   },
   "file_extension": ".py",
   "mimetype": "text/x-python",
   "name": "python",
   "nbconvert_exporter": "python",
   "pygments_lexer": "ipython3",
   "version": "3.8.3"
  },
  "orig_nbformat": 4
 },
 "nbformat": 4,
 "nbformat_minor": 2
}
