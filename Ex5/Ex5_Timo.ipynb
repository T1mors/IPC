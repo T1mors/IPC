{
 "cells": [
  {
   "cell_type": "markdown",
   "metadata": {},
   "source": [
    "# Exercise 5"
   ]
  },
  {
   "cell_type": "code",
   "execution_count": 1,
   "metadata": {},
   "outputs": [],
   "source": [
    "# Done by Timo Marks\n",
    "import numpy as np\n",
    "import matplotlib.pyplot as plt\n",
    "import matplotlib.axes as ax\n",
    "import mnist\n",
    "subplot_keywords = {\"xticks\": [0,27], \"yticks\": [0,27]}"
   ]
  },
  {
   "cell_type": "markdown",
   "metadata": {},
   "source": [
    "## Function for:\n",
    "## Task 2/3: Loading image data\n",
    "## Task 4: Converting data matrix to feature vector, and normalization\n",
    "## Task 5: Adding a row of dummy ones to the feature vector to avoid offset term"
   ]
  },
  {
   "cell_type": "code",
   "execution_count": 2,
   "metadata": {},
   "outputs": [],
   "source": [
    "def MnistRead():\n",
    "    train_images = mnist.train_images()\n",
    "    train_labels = mnist.train_labels()\n",
    "\n",
    "    test_images = mnist.test_images()\n",
    "    test_labels = mnist.test_labels()\n",
    "\n",
    "    print('train_images: ' + str(train_images.shape))\n",
    "    print('train_labels: ' + str(train_labels.shape))\n",
    "    print('test_images:  '  + str(test_images.shape))\n",
    "    print('test_labels:  '  + str(test_labels.shape))\n",
    "    return [train_images, train_labels, test_images, test_labels]\n",
    "\n",
    "# Creates num_grid * num_grid subplot of images\n",
    "def MnistShow(images, num_grid = 4):\n",
    "    plt.set_cmap(\"gray\")\n",
    "    fig, ax = plt.subplots(num_grid, num_grid, figsize=(10,10), sharex=True, sharey=True, subplot_kw = subplot_keywords)\n",
    "    for i in range(num_grid):\n",
    "        for j in range(num_grid):\n",
    "            ax[i,j].imshow(images[i*num_grid+j])\n",
    "    plt.show()\n",
    "\n",
    "# Create a feature vector of each image\n",
    "# One Column = One picture = One feature vector (this code changed from LDA)\n",
    "def matrix2vector(images):\n",
    "    images = images.reshape((images.shape[1] * images.shape[2]), images.shape[0])\n",
    "    # Add dummy ones --> one column now 785 numbers\n",
    "    images = np.vstack([np.ones(images.shape[1]), images])\n",
    "    return images\n",
    "\n",
    "# Inverse transformation of feature vector in image\n",
    "def vector2matrix(feature_vector, NCol, NRow):\n",
    "    # Remove dummy ones\n",
    "    feature_vector = feature_vector[1:]\n",
    "    return feature_vector.reshape(feature_vector.shape[1], NCol, NRow) # Original shape\n",
    "\n",
    "# Normalization: Gray Value from 0 to 1\n",
    "def normalize(images):\n",
    "    return images/np.max(images)"
   ]
  },
  {
   "cell_type": "markdown",
   "metadata": {},
   "source": [
    "### 1. Read in Data and Visualization"
   ]
  },
  {
   "cell_type": "code",
   "execution_count": 4,
   "metadata": {},
   "outputs": [
    {
     "name": "stdout",
     "output_type": "stream",
     "text": [
      "train_images: (60000, 28, 28)\n",
      "train_labels: (60000,)\n",
      "test_images:  (10000, 28, 28)\n",
      "test_labels:  (10000,)\n"
     ]
    },
    {
     "data": {
      "text/plain": [
       "<Figure size 432x288 with 0 Axes>"
      ]
     },
     "metadata": {},
     "output_type": "display_data"
    },
    {
     "data": {
      "image/png": "[encoded data removed]",
      "text/plain": [
       "<Figure size 720x720 with 16 Axes>"
      ]
     },
     "metadata": {
      "needs_background": "light"
     },
     "output_type": "display_data"
    }
   ],
   "source": [
    "[train_images, train_labels, test_images, test_labels] = MnistRead()\n",
    "train_images = normalize(train_images)\n",
    "test_images = normalize(test_images)\n",
    "\n",
    "# Pick out specific numbers\n",
    "digit_A = 1\n",
    "digit_B = 4\n",
    "\n",
    "# Array containing both numbers\n",
    "train_labels_mask = np.asarray(train_labels[:] == digit_A) | (train_labels[:] == digit_B)\n",
    "train_images, train_labels = train_images[train_labels_mask,:,:], train_labels[train_labels_mask]\n",
    "\n",
    "test_labels_mask = np.asarray(test_labels[:] == digit_A) | (test_labels[:] == digit_B)\n",
    "test_images, test_labels = test_images[test_labels_mask,:,:], test_labels[test_labels_mask]\n",
    "\n",
    "# Problem: train_labels.shape is (x,)\n",
    "# When we will use matrix multiplication with dimensions like: (1,x) * (x,1) = scalarproduct\n",
    "# We cannot use the (x,) vectors and (x,).tranpose yields to (x,)\n",
    "# Therefore expand dimensions explicitly to (x,1) \n",
    "# In numpy (x,) is the vector (or more like a list) and (x,1) a matrix\n",
    "train_labels = np.expand_dims(train_labels, axis=0)\n",
    "test_labels = np.expand_dims(test_labels, axis=0)\n",
    "\n",
    "\n",
    "# # Array containing only the specific numbers\n",
    "# train_images_digit_A = train_images[train_labels[:] == digit_A,:,:]\n",
    "# train_labels_digit_A = train_labels[train_labels[:] == digit_A]\n",
    "\n",
    "# train_images_digit_B = train_images[train_labels[:] == digit_B,:,:]\n",
    "# train_labels_digit_B = train_labels[train_labels[:] == digit_B]\n",
    "\n",
    "# test_images_digit_A = test_images[test_labels[:] == digit_A,:,:]\n",
    "# train_labels_digit_A = test_labels[test_labels[:] == digit_A]\n",
    "\n",
    "# test_images_digit_B = test_images[test_labels[:] == digit_B,:,:]\n",
    "# test_labels_digit_B = test_labels[test_labels[:] == digit_B]\n",
    "\n",
    "MnistShow(train_images) # Both digits\n",
    "# MnistShow(train_images_digit_B) # Only Digit B"
   ]
  },
  {
   "cell_type": "markdown",
   "metadata": {},
   "source": [
    "## Task 4 Converting data matrix to feature vector: Test Images\n",
    "If this fails, the upcoming calculation are not correct. Make sure the images are the same"
   ]
  },
  {
   "cell_type": "code",
   "execution_count": 14,
   "metadata": {},
   "outputs": [
    {
     "data": {
      "image/png": "[encoded data removed]",
      "text/plain": [
       "<Figure size 720x360 with 2 Axes>"
      ]
     },
     "metadata": {
      "needs_background": "light"
     },
     "output_type": "display_data"
    }
   ],
   "source": [
    "(NFrame, NRow, NCol) = train_images.shape\n",
    "feature_vectors = matrix2vector(train_images)\n",
    "images = vector2matrix(feature_vectors, NRow, NCol)\n",
    "\n",
    "fig, ax = plt.subplots(1,2, figsize=(10,5), subplot_kw=subplot_keywords)\n",
    "ax[0].imshow(train_images[0])\n",
    "ax[1].imshow(images[0])\n",
    "ax[0].set_title(\"Original image\")\n",
    "ax[1].set_title(\"Inverse transformation of transformed\\nimage. Should be the same.\")\n",
    "plt.plot();"
   ]
  },
  {
   "cell_type": "markdown",
   "metadata": {},
   "source": [
    "### Task 6: Perform Logistic Regression Gradient"
   ]
  },
  {
   "cell_type": "code",
   "execution_count": 6,
   "metadata": {},
   "outputs": [],
   "source": [
    "def gradient_descent_logreg(max_iter, step_size, vec_w_init, mat_X, mat_X_digits, weights_filename = \"vec_w_opt_logreg\", vec_y_filename = \"vec_y_logreg\"):\n",
    "    # Number Samples = Number Columns\n",
    "    N = mat_X.shape[1]\n",
    "    # Convert the vector of true label mat_X_digits to binary num(0,1) <-> digit(A, B)\n",
    "    vec_y = map_digit_to_vec_y(mat_X_digits)\n",
    "    vec_L = []\n",
    "\n",
    "    for i in np.arange(max_iter):\n",
    "        # Estimation of y --> y hat\n",
    "        y_estimate = vec_y_estimate(vec_w_init, mat_X) # shape = (1,N)\n",
    "\n",
    "        # Cross entropy loss function\n",
    "        L = -1/N * np.sum(vec_y*np.log(y_estimate)+(1-vec_y)*np.log(1-y_estimate)) # scalar\n",
    "        vec_L.append(L)\n",
    "\n",
    "        # Gradient Descent Algorithm\n",
    "        grad_L= 1/N * np.matmul(mat_X,(y_estimate-vec_y).transpose())\n",
    "        vec_w_init = vec_w_init - step_size * grad_L\n",
    "        ### Explanation\n",
    "        # For the gradient of L(w) I rewrote the sum\n",
    "        # We have the shapes: (y_estimate-vec_y).shape=(1, N)\n",
    "        #                     mat_X.shape=(785, N)\n",
    "        # The sum says, take entry i of (y_estimate-vec_y) and multiply it with vector mat_X[i]\n",
    "        # which is one whole column. This is the same as mat_X * (y_estimate-vec_y).transpose() and in shapes\n",
    "        # (785, N) * (N, 1) = (785,1)\n",
    "        # So the summation over all N samples is hidden in the matrix multiplication for each row in mat_X\n",
    "\n",
    "    return (vec_L, vec_w_init)\n",
    "\n",
    "def vec_y_estimate(vec_w_init, mat_X):\n",
    "    exp_argument = np.matmul(vec_w_init.transpose(), mat_X) # shape = (1,N)\n",
    "    return 1.0/(1+np.exp(-exp_argument)) # shape = (1,N)\n",
    "\n",
    "def map_digit_to_vec_y(mat_X_digits):\n",
    "    vec_y = np.zeros((1,mat_X_digits.shape[1])) # digit A entries to 0\n",
    "    digit_B_mask = mat_X_digits[0,:] == digit_B\n",
    "    digit_B_mask = np.expand_dims(digit_B_mask,axis=0)  # Shape (1,N)\n",
    "    vec_y[digit_B_mask] = 1  # digit B entries to 1\n",
    "    return vec_y\n",
    "    \n",
    "\n",
    "def compute_output_vec_y (vec_w_opt_lda, mat_X):\n",
    "    return np.matmul(np.transpose(vec_w_opt_lda), mat_X)\n",
    "\n",
    "def predict_one_y (vec_w_opt_lda, x, digit_A, digit_B):\n",
    "    vec_y_lda = compute_output_vec_y(vec_w_opt_lda, x)\n",
    "    if vec_y_lda > 0: \n",
    "        return digit_A\n",
    "    else:\n",
    "        return digit_B"
   ]
  },
  {
   "cell_type": "code",
   "execution_count": 232,
   "metadata": {},
   "outputs": [],
   "source": [
    "mat_X_digits = train_labels\n",
    "vec_y = np.zeros((1, mat_X_digits.shape[1])) \n",
    "digit_B_mask = mat_X_digits[0,:] == digit_B\n",
    "digit_B_mask = np.expand_dims(digit_B_mask,axis=0)  #(1,N)\n",
    "vec_y[digit_B_mask] = 1"
   ]
  },
  {
   "cell_type": "code",
   "execution_count": 56,
   "metadata": {},
   "outputs": [
    {
     "data": {
      "text/plain": [
       "[<matplotlib.lines.Line2D at 0x1a39c5eb8b0>]"
      ]
     },
     "execution_count": 56,
     "metadata": {},
     "output_type": "execute_result"
    },
    {
     "data": {
      "image/png": "[encoded data removed]",
      "text/plain": [
       "<Figure size 432x288 with 1 Axes>"
      ]
     },
     "metadata": {
      "needs_background": "light"
     },
     "output_type": "display_data"
    }
   ],
   "source": [
    "mat_X = train_images_feature_vec\n",
    "mat_X_digits = train_labels\n",
    "vec_L = []\n",
    "vec_y = map_digit_to_vec_y(mat_X_digits)\n",
    "N = mat_X.shape[1]\n",
    "vec_w_init = np.zeros((NRow*NCol+1,1))+0.1\n",
    "exp_argument = np.matmul(vec_w_init.transpose(), mat_X) # shape = (1,N)\n",
    "y_estimate = 1.0/(1+np.exp(-np.matmul(vec_w_init.transpose(), mat_X))) # shape = (1,N)\n",
    "L = -1.0/N * np.sum(vec_y*np.log(y_estimate)+(1-vec_y)*np.log(1-y_estimate))\n",
    "\n",
    "# For the gradient of L(w) I rewrote the sum\n",
    "# We have the shapes: (y_estimate-vec_y).shape=(1, N)\n",
    "#                     mat_X.shape=(785, N)\n",
    "# The sum says, take entry i of (y_estimate-vec_y) and multiply it with vector mat_X[i]\n",
    "# which is one whole column. This is the same as mat_X * (y_estimate-vec_y).transpose() and in shapes\n",
    "# (785, N) * (N, 1) = (785,1)\n",
    "# So the summation is hidden in the matrix multiplication for each row in mat_X\n",
    "\n",
    "\n",
    "grad_L_sum = np.matmul(mat_X,(y_estimate-vec_y).transpose())\n",
    "grad_L = 1/N * grad_L_sum\n",
    "\n",
    "# The same\n",
    "grad_L_2 = 1/N * (y_estimate[0,0]-vec_y[0,0])*mat_X[:,0]\n",
    "for i in np.arange(N-1):\n",
    "    grad_L_2 += 1/N * (y_estimate[0,i+1]-vec_y[0,i+1])*mat_X[:,i+1]\n",
    "\n",
    "# max_iter = 100\n",
    "# step_size = 0.01\n",
    "# for i in np.arange(max_iter):\n",
    "#     y_estimate = 1.0/(1+np.exp(-np.matmul(vec_w_init.transpose(), mat_X))) # shape = (1,N)\n",
    "#     L = -1/N * np.sum(vec_y*np.log(y_estimate)+(1-vec_y)*np.log(1-y_estimate))\n",
    "#     vec_L.append(L)\n",
    "#     grad_L= 1/N * np.matmul(mat_X,(y_estimate-vec_y).transpose())\n",
    "#     vec_w_init = vec_w_init - step_size * grad_L\n",
    "\n",
    "\n",
    "plt.plot(vec_L)"
   ]
  },
  {
   "cell_type": "code",
   "execution_count": 57,
   "metadata": {},
   "outputs": [
    {
     "data": {
      "text/plain": [
       "-4.0243364196612674e-12"
      ]
     },
     "execution_count": 57,
     "metadata": {},
     "output_type": "execute_result"
    }
   ],
   "source": [
    "np.sum(grad_L-grad_L_2)"
   ]
  },
  {
   "cell_type": "code",
   "execution_count": 33,
   "metadata": {},
   "outputs": [
    {
     "data": {
      "text/plain": [
       "-52005.084920985406"
      ]
     },
     "execution_count": 33,
     "metadata": {},
     "output_type": "execute_result"
    }
   ],
   "source": [
    "np.sum(vec_y*np.log(y_estimate)+(1-vec_y)*np.log(1-y_estimate))"
   ]
  },
  {
   "cell_type": "code",
   "execution_count": 42,
   "metadata": {},
   "outputs": [
    {
     "data": {
      "text/plain": [
       "Text(0.5, 1.0, 'Corresponding weights matrix')"
      ]
     },
     "execution_count": 42,
     "metadata": {},
     "output_type": "execute_result"
    },
    {
     "data": {
      "image/png": "[encoded data removed]",
      "text/plain": [
       "<Figure size 1440x360 with 2 Axes>"
      ]
     },
     "metadata": {
      "needs_background": "light"
     },
     "output_type": "display_data"
    }
   ],
   "source": [
    "(NFrame, NRow, NCol) = train_images.shape\n",
    "train_images_feature_vec = matrix2vector(train_images)\n",
    "vec_w_init = np.zeros((NRow*NCol+1,1))+0.1\n",
    "\n",
    "max_iter = 1000\n",
    "step_size = 0.01\n",
    "(vec_L, optimal_w_vec) = gradient_descent_logreg(max_iter, step_size, vec_w_init, train_images_feature_vec, train_labels)\n",
    "optimal_w_mat = vector2matrix(optimal_w_vec, NRow, NCol)\n",
    "\n",
    "# Plot Results\n",
    "fig, ax = plt.subplots(1,2,figsize=(20,5))\n",
    "ax[0].plot(vec_L, label=f\"Max iteration: {max_iter}, Step size: {step_size}\")\n",
    "ax[1].imshow(optimal_w_mat[0])\n",
    "\n",
    "ax[0].legend()\n",
    "ax[1].set_title(\"Corresponding weights matrix\")"
   ]
  },
  {
   "cell_type": "code",
   "execution_count": 39,
   "metadata": {},
   "outputs": [],
   "source": [
    "test = train_images_feature_vec.transpose()[0]\n",
    "test = np.expand_dims(test, axis=1)"
   ]
  },
  {
   "cell_type": "code",
   "execution_count": 40,
   "metadata": {},
   "outputs": [
    {
     "data": {
      "text/plain": [
       "array([[0.42324236]])"
      ]
     },
     "execution_count": 40,
     "metadata": {},
     "output_type": "execute_result"
    }
   ],
   "source": [
    "vec_y_estimate(optimal_w_vec, test)"
   ]
  },
  {
   "cell_type": "markdown",
   "metadata": {},
   "source": [
    "### 6 Model Accuracy\n",
    "The method gives a high accuracy around 97%-99% even when the test data set is used. The Accuracy depends on the used numbers. Numbers which are more similar have a smaller pair accuracy. "
   ]
  },
  {
   "cell_type": "code",
   "execution_count": 102,
   "metadata": {},
   "outputs": [],
   "source": [
    "def compute_accuracy(vec_y_lda, vec_y_true, digit_A, digit_B):\n",
    "    vec = (np.zeros(vec_y_lda.shape[1]))\n",
    "    vec_y_lda = vec_y_lda.flatten()\n",
    "    vec[vec_y_lda[:] > 0] = digit_A\n",
    "    vec[vec_y_lda[:] <= 0] = digit_B\n",
    "    vec_true_false = vec[vec == vec_y_true]\n",
    "\n",
    "    return len(vec_true_false)/len(vec_y_true)"
   ]
  },
  {
   "cell_type": "code",
   "execution_count": 103,
   "metadata": {},
   "outputs": [
    {
     "name": "stdout",
     "output_type": "stream",
     "text": [
      "Train data: The Accuracy of the model with digit A: 1 and digit B: 4 is: 0.46424\n",
      "Test data:  The Accuracy of the model with digit A: 1 and digit B: 4 is: 0.46386\n"
     ]
    }
   ],
   "source": [
    "vec_y_lda = compute_output_vec_y(vec_w_opt_lda, matrix2vector(train_images))\n",
    "accuracy = compute_accuracy(vec_y_lda, train_labels, digit_A, digit_B)\n",
    "print(f\"Train data: The Accuracy of the model with digit A: {digit_A} and digit B: {digit_B} is: {accuracy:.5f}\")\n",
    "\n",
    "vec_y_lda = compute_output_vec_y(vec_w_opt_lda, matrix2vector(test_images))\n",
    "accuracy = compute_accuracy(vec_y_lda, test_labels, digit_A, digit_B)\n",
    "print(f\"Test data:  The Accuracy of the model with digit A: {digit_A} and digit B: {digit_B} is: {accuracy:.5f}\")"
   ]
  },
  {
   "cell_type": "markdown",
   "metadata": {},
   "source": [
    "### 7. Test model with test dataset and show the classification"
   ]
  },
  {
   "cell_type": "code",
   "execution_count": null,
   "metadata": {},
   "outputs": [
    {
     "data": {
      "image/png": "[encoded data removed]",
      "text/plain": [
       "<Figure size 720x720 with 16 Axes>"
      ]
     },
     "metadata": {
      "needs_background": "light"
     },
     "output_type": "display_data"
    }
   ],
   "source": [
    "mat_weights = vec_w_opt_lda.reshape(NRow, NCol)\n",
    "\n",
    "num_grid = 4\n",
    "fig, ax = plt.subplots(num_grid, num_grid, figsize=(10,10), subplot_kw=subplot_keywords, sharex=True, sharey=True)\n",
    "\n",
    "# Take some random examples from the test dataset and show the prediction\n",
    "train_images_digit_A_vec, train_images_digit_B_vec = matrix2vector(train_images_digit_A), matrix2vector(train_images_digit_B)\n",
    "Test1, Test2, Test3 = train_images_digit_A_vec[:,3], train_images_digit_A_vec[:,600], train_images_digit_B_vec[:,600]\n",
    "\n",
    "test_images_vec = matrix2vector(test_images)\n",
    "for i in np.arange(num_grid):\n",
    "    for j in np.arange(num_grid):\n",
    "    # Take some random examples from the test dataset and show the prediction\n",
    "        max_int = test_images_vec.shape[1]\n",
    "        rand = np.random.randint(0, max_int)\n",
    "        Example_data = test_images_vec[:,rand]\n",
    "        prediction = predict_one_y(vec_w_opt_lda, Example_data, digit_A, digit_B)\n",
    "        ax[i,j].imshow(Example_data.reshape(NRow, NCol))\n",
    "        ax[i,j].set_title(f\"Model predicts: {prediction}\")\n",
    "plt.show()"
   ]
  },
  {
   "cell_type": "code",
   "execution_count": 51,
   "metadata": {},
   "outputs": [],
   "source": [
    "(NFrame, NRow, NCol) = test_images.shape\n",
    "feature_vectors = matrix2vector(test_images)"
   ]
  },
  {
   "cell_type": "code",
   "execution_count": 30,
   "metadata": {},
   "outputs": [],
   "source": [
    "feature_vectorsold = matrix2vectorold(test_images)\n",
    "a = feature_vectorsold[0]\n",
    "b= feature_vectors[0]"
   ]
  },
  {
   "cell_type": "code",
   "execution_count": 15,
   "metadata": {},
   "outputs": [],
   "source": [
    "# Create a feature vector of each image\n",
    "def matrix2vectorold(images):\n",
    "    images = images.reshape(images.shape[0], (images.shape[1] * images.shape[2]))\n",
    "    return np.transpose(images)"
   ]
  },
  {
   "cell_type": "code",
   "execution_count": 92,
   "metadata": {},
   "outputs": [],
   "source": [
    "(NFrame, NRow, NCol) = test_images.shape\n",
    "feature_vectors = matrix2vector(test_images)\n",
    "a1 = vector2matrix(feature_vectors,NRow,NCol)"
   ]
  },
  {
   "cell_type": "code",
   "execution_count": 142,
   "metadata": {},
   "outputs": [
    {
     "data": {
      "text/plain": [
       "array([0., 1., 0., 1., 1., 1., 0., 0., 1., 0., 0., 0., 1., 0., 1., 1., 1.,\n",
       "       0.])"
      ]
     },
     "execution_count": 142,
     "metadata": {},
     "output_type": "execute_result"
    }
   ],
   "source": [
    "test_labels\n",
    "map_digit_to_vec_y(test_labels)[2:20]"
   ]
  },
  {
   "cell_type": "code",
   "execution_count": 115,
   "metadata": {},
   "outputs": [
    {
     "data": {
      "text/plain": [
       "(2117,)"
      ]
     },
     "execution_count": 115,
     "metadata": {},
     "output_type": "execute_result"
    }
   ],
   "source": [
    "test_labels.shape"
   ]
  },
  {
   "cell_type": "code",
   "execution_count": null,
   "metadata": {},
   "outputs": [],
   "source": []
  }
 ],
 "metadata": {
  "interpreter": {
   "hash": "c5d4dc37f51bff584363dd80fe4dc066facb43879c20ce70de14b9637a1469ef"
  },
  "kernelspec": {
   "display_name": "Python 3.9.5 64-bit ('base': conda)",
   "name": "python3"
  },
  "language_info": {
   "codemirror_mode": {
    "name": "ipython",
    "version": 3
   },
   "file_extension": ".py",
   "mimetype": "text/x-python",
   "name": "python",
   "nbconvert_exporter": "python",
   "pygments_lexer": "ipython3",
   "version": "3.8.3"
  },
  "orig_nbformat": 4,
  "vscode": {
   "interpreter": {
    "hash": "166dc6659d4d81a6b408d2ea737eabe1c92607925fbed88ae7c17ff43dffc163"
   }
  }
 },
 "nbformat": 4,
 "nbformat_minor": 2
}
