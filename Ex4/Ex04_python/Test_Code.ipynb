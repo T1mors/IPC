{
 "cells": [
  {
   "cell_type": "markdown",
   "metadata": {},
   "source": [
    "### Funktion für die lineare Trennung"
   ]
  },
  {
   "cell_type": "code",
   "execution_count": null,
   "metadata": {},
   "outputs": [],
   "source": [
    "def learn_lineare_trennung(mat_X, vec_true_y, weights_filename = \"vec_w_opt_lda\", vec_y_filename = \"vec_y_lda\"):\n",
    "    # Break into small steps for error search if one step should fail\n",
    "    print(\"Step 0 / 5\")\n",
    "    XX_T = np.matmul(mat_X, np.transpose(mat_X))\n",
    "    c = XX_T\n",
    "    print(f\"Step 1 / 5: Shape XX_T: {XX_T.shape}\")\n",
    "    invXX_T = np.linalg.pinv(XX_T) # Use Moore-Penrose pseudo-inverse of a matrix\n",
    "    print(f\"Step 2 / 5: Shape invXX_T: {invXX_T.shape}\")\n",
    "    invXX_T_X = np.matmul(invXX_T, mat_X)\n",
    "    print(f\"Step 3 / 5: Shape invXX_T_X: {invXX_T_X.shape}\")\n",
    "    vec_w_opt_lda = np.matmul(invXX_T_X, np.transpose(vec_true_y))\n",
    "    print(f\"Step 4 / 5: Shape vec_w_opt_lda: {vec_w_opt_lda.shape}\")\n",
    "    vec_y_lda = compute_output_vec_y(vec_w_opt_lda, mat_X)\n",
    "    print(f\"Step 5 / 5: Shape vec_y_lda: {vec_y_lda.shape}\")\n",
    "    np.save(weights_filename, vec_w_opt_lda)\n",
    "    np.save(vec_y_filename, vec_y_lda)\n",
    "\n",
    "    return [vec_w_opt_lda, vec_y_lda]\n",
    "\n",
    "def compute_output_vec_y (vec_w_opt_lda, mat_X):\n",
    "    return np.matmul(np.transpose(vec_w_opt_lda), mat_X)"
   ]
  },
  {
   "cell_type": "markdown",
   "metadata": {},
   "source": [
    "### Möglicher Code für automatisches ausführen von Funktionen, falls Dateien nicht vorhanden sind"
   ]
  },
  {
   "cell_type": "code",
   "execution_count": null,
   "metadata": {},
   "outputs": [],
   "source": [
    "directory = \"data/\"\n",
    "\n",
    "weights_filename = directory+f\"vec_w_opt_lda_A{digit_A}_B{digit_B}\"\n",
    "vec_y_filename = directory+f\"vec_y_lda_A{digit_A}_B{digit_B}\"\n",
    "\n",
    "# Automatically read in weights or do the computation\n",
    "try:\n",
    "    vec_w_opt_lda = np.load(f\"{weights_filename}.npy\")\n",
    "    vec_y_lda = np.load(f\"{vec_y_filename}.npy\")\n",
    "except:\n",
    "    [vec_w_opt_lda, vec_y_lda] = learn_lda(matrix2vector(train_images), train_labels, weights_filename=weights_filename, vec_y_filename = vec_y_filename);\n",
    "\n",
    "vec_w_opt_lda = np.load(f\"{weights_filename}.npy\")\n",
    "vec_y_lda = np.load(f\"{vec_y_filename}.npy\")\n"
   ]
  }
 ],
 "metadata": {
  "language_info": {
   "name": "python"
  },
  "orig_nbformat": 4
 },
 "nbformat": 4,
 "nbformat_minor": 2
}
