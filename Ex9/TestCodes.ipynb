{
 "cells": [
  {
   "cell_type": "code",
   "execution_count": null,
   "metadata": {},
   "outputs": [],
   "source": [
    "NHidden = 2\n",
    "NOutput = 1\n",
    "for i in range(NHidden):\n",
    "    for j in range(NOutput):\n",
    "        print(j*NHidden+i)\n",
    "grad_jk = np.array([])\n",
    "\n",
    "\n",
    "#########################\n",
    "# Get all weights for each neuron in hidden layer = one row of mat_wjk (all k's)\n",
    "# After that concatenate the weights for each neuron in the hidden layer for one vector\n",
    "y_diff = y_estimate.flatten()-vec_true_y.flatten()\n",
    "for j in range(NHidden):\n",
    "    for k in range(NOutput):\n",
    "        grad_jk_x = 1/NOutput*y_diff[k]*layer_hidden[j]\n",
    "        grad_jk = np.append(grad_jk, grad_jk_x)\n",
    "\n",
    "grad_ij = np.array([])\n",
    "for i in range(NInput):\n",
    "    for j in range(NHidden):\n",
    "        sum_w_delta = 0\n",
    "        sum_w_delta = np.dot(mat_wjk[:,j],y_diff)\n",
    "\n",
    "        grad_ij_x = 1/NHidden*sum_w_delta*sigmoid_derivative(layer_hidden[j])*vec_X[i]\n",
    "        grad_ij = np.append(grad_ij, grad_ij_x)\n",
    "\n",
    "grad_ij = np.append(grad_ij, grad_jk)\n",
    "grad_L = np.array(grad_ij)\n",
    "grad_L = grad_L.flatten()\n",
    "\n",
    "#################\n",
    "# Get all weights for each neuron in hidden layer = one row of mat_wjk (all k's)\n",
    "# After that concatenate the weights for each neuron in the hidden layer for one vector\n",
    "y_diff = y_estimate.flatten()-vec_true_y.flatten() # shape(10,1)\n",
    "grad_jk = np.zeros(NHidden*NOutput)\n",
    "for j in range(NHidden):\n",
    "    for k in range(NOutput):\n",
    "        grad_jk[k*NHidden+j] = 1/NOutput*y_diff[k]*layer_hidden[j]\n",
    "\n",
    "grad_ij = np.zeros(NInput*NHidden)\n",
    "for i in range(NInput):\n",
    "    for j in range(NHidden):\n",
    "        sum_w_delta = np.dot(mat_wjk[:,j],y_diff)\n",
    "        grad_ij[j*NInput+i] = 1/NHidden*sum_w_delta*sigmoid_derivative(layer_hidden[j])*vec_X[i]\n",
    "\n",
    "grad_ij = np.append(grad_ij, grad_jk)\n",
    "grad_L = grad_ij.flatten()"
   ]
  }
 ],
 "metadata": {
  "language_info": {
   "name": "python"
  },
  "orig_nbformat": 4
 },
 "nbformat": 4,
 "nbformat_minor": 2
}
