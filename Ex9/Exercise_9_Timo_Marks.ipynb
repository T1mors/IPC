{
 "cells": [
  {
   "cell_type": "markdown",
   "metadata": {},
   "source": [
    "# Exercise 9 by Timo Marks\n",
    "Den Backpropagation konnte ich auch nach vielen Stunden nicht vollständig funktionfähig implementieren. Aufgrund von weiteren Abgaben in der nächsten Woche, kann ich hier leider keine weitere Zeit investieren."
   ]
  },
  {
   "cell_type": "code",
   "execution_count": 3,
   "metadata": {},
   "outputs": [],
   "source": [
    "# Done by Timo Marks\n",
    "import numpy as np\n",
    "import matplotlib.pyplot as plt\n",
    "import matplotlib.axes as ax\n",
    "from sklearn.preprocessing import StandardScaler\n",
    "import mnist\n",
    "subplot_keywords = {\"xticks\": [0,27], \"yticks\": [0,27]}"
   ]
  },
  {
   "cell_type": "markdown",
   "metadata": {},
   "source": [
    "## Function for: \n",
    "Loading image data    \n",
    "Converting data matrix to feature vector, and normalization    \n",
    "Adding a row of dummy ones to the feature vector to avoid offset term    \n",
    "Normalize data to (0,1]  \n",
    "Masking Data for specific digits  "
   ]
  },
  {
   "cell_type": "code",
   "execution_count": 4,
   "metadata": {},
   "outputs": [],
   "source": [
    "def MnistRead():\n",
    "    train_images = mnist.train_images()\n",
    "    train_labels = mnist.train_labels()\n",
    "\n",
    "    test_images = mnist.test_images()\n",
    "    test_labels = mnist.test_labels()\n",
    "\n",
    "    print('train_images: ' + str(train_images.shape))\n",
    "    print('train_labels: ' + str(train_labels.shape))\n",
    "    print('test_images:  '  + str(test_images.shape))\n",
    "    print('test_labels:  '  + str(test_labels.shape))\n",
    "    return [train_images, train_labels, test_images, test_labels]\n",
    "\n",
    "# Creates num_grid * num_grid subplot of images\n",
    "def MnistShow(images, num_grid_row = 4, num_grid_column = 4):\n",
    "    plt.set_cmap(\"gray\")\n",
    "    fig, ax = plt.subplots(num_grid_row, num_grid_column, figsize=(3*num_grid_column,3*num_grid_row), sharex=True, sharey=True, subplot_kw = subplot_keywords)\n",
    "    for i in range(num_grid_row):\n",
    "        for j in range(num_grid_column):\n",
    "            ax[i,j].imshow(images[i*num_grid_column+j])\n",
    "    plt.show()\n",
    "\n",
    "\n",
    "# Create a feature vector of each image\n",
    "# One Column = One picture = One feature vector\n",
    "def matrix2vector(images):\n",
    "    images = images.reshape(images.shape[0], (images.shape[1] * images.shape[2]))\n",
    "    # This is wrong: See Note Nr. 1 at the end\n",
    "    # images = images.reshape((images.shape[1] * images.shape[2]), images.shape[0]) \n",
    "\n",
    "    images = images.transpose()\n",
    "    # Add dummy ones --> one column now 785 numbers\n",
    "    images = np.vstack([np.ones(images.shape[1]), images])\n",
    "    return images\n",
    "\n",
    "# Inverse transformation of feature vector in image\n",
    "def vector2matrix(feature_vector, NCol, NRow):\n",
    "    # Remove dummy ones\n",
    "    feature_vector = feature_vector[1:]\n",
    "    feature_vector = feature_vector.transpose()\n",
    "    return feature_vector.reshape(feature_vector.shape[0], NCol, NRow) # Original shape\n",
    "\n",
    "# Normalization: Gray Value from 0 to 1\n",
    "def normalize(images):\n",
    "    # This is called \"normalization\" in Matlab but actually you do a standardization (For Ex. 5-7)\n",
    "    # return (images - images.mean())/images.std()\n",
    "    # The true normalization between 0 and 1\n",
    "    return images/np.max(images)\n",
    "\n",
    "# Array containing only the specific numbers\n",
    "def masking_data(images, labels, digit):\n",
    "    digit_mask = labels[0,:] == digit\n",
    "    images_digit = images[digit_mask]\n",
    "    digit_mask = np.expand_dims(digit_mask, axis=0)\n",
    "    labels_digit = labels[digit_mask]\n",
    "\n",
    "    return [images_digit, labels_digit]"
   ]
  },
  {
   "cell_type": "markdown",
   "metadata": {},
   "source": [
    "### 1. Read in Data and Visualization"
   ]
  },
  {
   "cell_type": "code",
   "execution_count": 5,
   "metadata": {},
   "outputs": [
    {
     "name": "stdout",
     "output_type": "stream",
     "text": [
      "train_images: (60000, 28, 28)\n",
      "train_labels: (60000,)\n",
      "test_images:  (10000, 28, 28)\n",
      "test_labels:  (10000,)\n"
     ]
    }
   ],
   "source": [
    "[train_images, train_labels, test_images, test_labels] = MnistRead()\n",
    "train_images = normalize(train_images)\n",
    "test_images = normalize(test_images)\n",
    "\n",
    "# Pick out specific numbers\n",
    "digit_A = 0\n",
    "digit_B = 4\n",
    "\n",
    "# Array containing both numbers\n",
    "# train_labels_mask = np.asarray(train_labels[:] == digit_A) | (train_labels[:] == digit_B)\n",
    "# train_images, train_labels = train_images[train_labels_mask,:,:], train_labels[train_labels_mask]\n",
    "\n",
    "# test_labels_mask = np.asarray(test_labels[:] == digit_A) | (test_labels[:] == digit_B)\n",
    "# test_images, test_labels = test_images[test_labels_mask,:,:], test_labels[test_labels_mask]\n",
    "\n",
    "# Explaination: train_labels.shape is (x,)\n",
    "# When we will use matrix multiplication with dimensions like: (1,x) * (x,1) = scalarproduct\n",
    "# We cannot use the (x,) vectors and (x,).tranpose yields to (x,)\n",
    "# Therefore expand dimensions explicitly to (x,1) \n",
    "# In numpy (x,) is the vector (or more like a list) and (x,1) a matrix\n",
    "\n",
    "train_labels = np.expand_dims(train_labels, axis=0)\n",
    "test_labels = np.expand_dims(test_labels, axis=0)\n",
    "\n",
    "[train_images_digit_A, train_labels_digit_A] = masking_data(train_images, train_labels, digit_A)\n",
    "[train_images_digit_B, train_labels_digit_B] = masking_data(train_images, train_labels, digit_B)\n",
    "[test_images_digit_A, test_labels_digit_A] = masking_data(test_images, test_labels, digit_A)\n",
    "[test_images_digit_B, test_labels_digit_B] = masking_data(test_images, test_labels, digit_B)"
   ]
  },
  {
   "cell_type": "code",
   "execution_count": 6,
   "metadata": {},
   "outputs": [
    {
     "data": {
      "text/plain": [
       "<Figure size 432x288 with 0 Axes>"
      ]
     },
     "metadata": {},
     "output_type": "display_data"
    },
    {
     "data": {
      "image/png": "[encoded data removed]",
      "text/plain": [
       "<Figure size 864x432 with 8 Axes>"
      ]
     },
     "metadata": {
      "needs_background": "light"
     },
     "output_type": "display_data"
    },
    {
     "data": {
      "text/plain": [
       "<Figure size 432x288 with 0 Axes>"
      ]
     },
     "metadata": {},
     "output_type": "display_data"
    },
    {
     "data": {
      "image/png": "[encoded data removed]",
      "text/plain": [
       "<Figure size 864x432 with 8 Axes>"
      ]
     },
     "metadata": {
      "needs_background": "light"
     },
     "output_type": "display_data"
    }
   ],
   "source": [
    "MnistShow(train_images, num_grid_row=2,num_grid_column=4) # Both digits\n",
    "MnistShow(train_images_digit_A, num_grid_row=2,num_grid_column=4) # Only Digit B"
   ]
  },
  {
   "cell_type": "markdown",
   "metadata": {},
   "source": [
    "## Task 4 Converting data matrix to feature vector: Test Images\n",
    "If this fails, the upcoming calculation are not correct. Make sure the images are the same"
   ]
  },
  {
   "cell_type": "code",
   "execution_count": 7,
   "metadata": {},
   "outputs": [
    {
     "data": {
      "image/png": "[encoded data removed]",
      "text/plain": [
       "<Figure size 432x216 with 2 Axes>"
      ]
     },
     "metadata": {
      "needs_background": "light"
     },
     "output_type": "display_data"
    }
   ],
   "source": [
    "(NFrame, NRow, NCol) = train_images.shape\n",
    "feature_vectors = matrix2vector(train_images)\n",
    "images = vector2matrix(feature_vectors, NRow, NCol)\n",
    "\n",
    "fig, ax = plt.subplots(1,2, figsize=(6,3), subplot_kw=subplot_keywords)\n",
    "ax[0].imshow(train_images[0])\n",
    "ax[1].imshow(images[0])\n",
    "ax[0].set_title(\"Original image\")\n",
    "ax[1].set_title(\"Inverse transformation of transformed\\nimage. Should be the same.\")\n",
    "plt.plot();"
   ]
  },
  {
   "cell_type": "code",
   "execution_count": 8,
   "metadata": {},
   "outputs": [],
   "source": [
    "# This is \"y hat\" on the exercise sheet\n",
    "def sigmoid(exp_argument):\n",
    "    return 1.0/(1+np.exp(-exp_argument)) # shape = (1,N)\n",
    "\n",
    "def sigmoid_derivative(exp_argument):\n",
    "    return sigmoid(-exp_argument)*(1-sigmoid(-exp_argument))\n",
    "\n",
    "# Returns a vector of the best class labels for all the samples \n",
    "def nn_forward(vec_w, mat_X, NInput, NHidden, NOutput):\n",
    "    # Number samples = Number Columns = S\n",
    "    # Number Pixel/Input = Number Columns = NInput\n",
    "    # mat_X of shape (NInput,N)\n",
    "    S = mat_X.shape[1]\n",
    "\n",
    "    # i=input, j=hidden, k=output\n",
    "    mat_wij = vec_w[0:NInput*NHidden].reshape(NHidden,NInput)\n",
    "    mat_wjk = vec_w[NInput*NHidden:].reshape(NOutput,NHidden)\n",
    "\n",
    "    vec_bestclass = np.array([])\n",
    "    for sample in np.arange(S):\n",
    "        layer_hidden = mat_wij @ mat_X[:,sample] # shape: (NHidden, NInput) @ (NInput,1) = (NHidden,1)\n",
    "        layer_hidden = np.expand_dims(layer_hidden,axis=1) # (NHidden,1)\n",
    "        layer_hidden = sigmoid(layer_hidden)\n",
    "        # vec_output_hidden = np.append(vec_output_hidden, output_hidden)\n",
    "\n",
    "        layer_output = mat_wjk @ layer_hidden # shape: (NOutput, NHidden) @ (NHidden,1) = (NOutput,1)\n",
    "        layer_output = sigmoid(layer_output)\n",
    "\n",
    "        vec_bestclass = np.append(vec_bestclass, np.argmax(layer_output))\n",
    "        vec_bestclass = np.expand_dims(vec_bestclass, axis=0)\n",
    "    return vec_bestclass\n",
    "\n",
    "# Converts digits to vec of zero and ones: 7 -> (0,0,0,0,0,0,0,1,0,0)\n",
    "def digit_to_binary_vec(vec_digits, NOutputs):\n",
    "    vec_digits = vec_digits.flatten()\n",
    "    mat_vec_binary = np.zeros((NOutputs, len(vec_digits)))\n",
    "    for i in np.arange(len(vec_digits)):\n",
    "        mat_vec_binary[vec_digits[i],i] = 1 # shape: (NOutputs, vec_digits)\n",
    "    return mat_vec_binary"
   ]
  },
  {
   "cell_type": "markdown",
   "metadata": {},
   "source": [
    "Example for digits_to_binary_vec"
   ]
  },
  {
   "cell_type": "code",
   "execution_count": 9,
   "metadata": {},
   "outputs": [
    {
     "name": "stdout",
     "output_type": "stream",
     "text": [
      "[5 0 4]\n",
      "[[0. 1. 0.]\n",
      " [0. 0. 0.]\n",
      " [0. 0. 0.]\n",
      " [0. 0. 0.]\n",
      " [0. 0. 1.]\n",
      " [1. 0. 0.]\n",
      " [0. 0. 0.]\n",
      " [0. 0. 0.]\n",
      " [0. 0. 0.]\n",
      " [0. 0. 0.]]\n"
     ]
    }
   ],
   "source": [
    "print(train_labels[0,0:3])\n",
    "print(digit_to_binary_vec(train_labels[0,0:3],10))"
   ]
  },
  {
   "cell_type": "code",
   "execution_count": 10,
   "metadata": {},
   "outputs": [],
   "source": [
    "train_images_feature_vec = matrix2vector(train_images)\n",
    "mat_X = train_images_feature_vec\n",
    "vec_true = digit_to_binary_vec(train_labels,10)\n",
    "\n",
    "NInput = 785\n",
    "NHidden = 10\n",
    "NOutput = 10\n",
    "vec_w = np.zeros(NInput*NHidden+NHidden*NOutput)+0.5"
   ]
  },
  {
   "cell_type": "code",
   "execution_count": 12,
   "metadata": {},
   "outputs": [
    {
     "name": "stdout",
     "output_type": "stream",
     "text": [
      "layer_output: (10, 1)\n"
     ]
    }
   ],
   "source": [
    "# i=input, j=hidden, k=output\n",
    "vec_X = mat_X[:,1]\n",
    "vec_true_y = vec_true[:,1]\n",
    "\n",
    "mat_wij = vec_w[0:NInput*NHidden].reshape(NHidden,NInput)\n",
    "mat_wjk = vec_w[NInput*NHidden:].reshape(NOutput,NHidden)\n",
    "\n",
    "layer_hidden = mat_wij @ vec_X\n",
    "layer_hidden = np.expand_dims(layer_hidden,axis=1) # (NHidden,1)\n",
    "layer_hidden = sigmoid(layer_hidden)\n",
    "# vec_output_hidden = np.append(vec_output_hidden, output_hidden)\n",
    "# print(f\"mat_wjk: {mat_wjk.shape}, layer_hidden: {layer_hidden.shape}\")\n",
    "layer_output = mat_wjk @ layer_hidden # shape: (NOutput, NHidden) @ (NHidden,1) = (NOutput,1)\n",
    "layer_output = sigmoid(layer_output) # (NOutput,1)\n",
    "\n",
    "y_estimate = layer_output\n",
    "print(f\"layer_output: {layer_output.shape}\")\n",
    "y_estimate[y_estimate[:] == 0] += 10**-10\n",
    "y_estimate[y_estimate[:] == 1] -= 10**-10\n",
    "\n",
    "# Cross entropy loss function\n",
    "L = -1/NOutput * np.sum(vec_true_y*np.log(y_estimate)+(1-vec_true_y)*np.log(1-y_estimate)) # scalar\n",
    "\n",
    "\n",
    "# grad_L must have same dimensions as vec_w\n",
    "grad_L = []\n",
    "\n",
    "# Get all weights for each neuron in hidden layer = one row of mat_wjk (all k's)\n",
    "# After that concatenate the weights for each neuron in the hidden layer for one vector\n",
    "vec_true_y = np.expand_dims(vec_true_y, axis=1)\n",
    "y_diff = y_estimate-vec_true_y\n",
    "grad_jk = np.zeros(NHidden*NOutput)\n",
    "grad_jk = 1/NOutput*y_diff*layer_hidden.T\n",
    "grad_jk = grad_jk.flatten()\n",
    "\n",
    "sum_w_delta = mat_wjk.T@y_diff\n",
    "grad_ij = 1/NHidden*sum_w_delta*sigmoid_derivative(layer_hidden)*vec_X.T\n",
    "\n",
    "grad_ij = np.append(grad_ij, grad_jk)\n",
    "grad_L = grad_ij.flatten()"
   ]
  },
  {
   "cell_type": "markdown",
   "metadata": {},
   "source": [
    "Leider habe ich es nicht geschafft, den kompletten Backpropagation Algorithmus zu implementieren. Die groben Fehler, wie falsche Dimensionen bei den Matrix-Multiplikationen sind gelöst, aber die Notation auf dem Aufgabenblatt hat mich verwirrt und wahrscheinlich liegen dort dann die Fehler. Diese Implementation richtet sich stark an das Aufgabenblatt, aber ist durch die for loops sehr langsam."
   ]
  },
  {
   "cell_type": "code",
   "execution_count": 25,
   "metadata": {},
   "outputs": [],
   "source": [
    "# Outputs cross entropy loss function and its gradient\n",
    "def nn_gradient_try1(vec_w, vec_X, vec_true_y, NInput, NHidden, NOutput):\n",
    "    # i=input, j=hidden, k=output\n",
    "    vec_X = mat_X[:,1]\n",
    "    vec_true_y = vec_true[:,1]\n",
    "\n",
    "    mat_wij = vec_w[0:NInput*NHidden].reshape(NHidden,NInput)\n",
    "    mat_wjk = vec_w[NInput*NHidden:].reshape(NOutput,NHidden)\n",
    "\n",
    "    layer_hidden = mat_wij @ vec_X\n",
    "    layer_hidden = np.expand_dims(layer_hidden,axis=1) # (NHidden,1)\n",
    "    layer_hidden = sigmoid(layer_hidden)\n",
    "    # vec_output_hidden = np.append(vec_output_hidden, output_hidden)\n",
    "    # print(f\"mat_wjk: {mat_wjk.shape}, layer_hidden: {layer_hidden.shape}\")\n",
    "    layer_output = mat_wjk @ layer_hidden # shape: (NOutput, NHidden) @ (NHidden,1) = (NOutput,1)\n",
    "    layer_output = sigmoid(layer_output) # (NOutput,1)\n",
    "\n",
    "    y_estimate = layer_output\n",
    "    # print(f\"layer_output: {layer_output.shape}\")\n",
    "    y_estimate[y_estimate[:] == 0] += 10**-10\n",
    "    y_estimate[y_estimate[:] == 1] -= 10**-10\n",
    "\n",
    "    # Cross entropy loss function\n",
    "    L = -1/NOutput * np.sum(vec_true_y*np.log(y_estimate)+(1-vec_true_y)*np.log(1-y_estimate)) # scalar\n",
    "\n",
    "\n",
    "    # grad_L must have same dimensions as vec_w\n",
    "    grad_L = []\n",
    "    grad_jk = np.array([])\n",
    "\n",
    "    # Get all weights for each neuron in hidden layer = one row of mat_wjk (all k's)\n",
    "    # After that concatenate the weights for each neuron in the hidden layer for one vector\n",
    "    y_diff = y_estimate.flatten()-vec_true_y.flatten()\n",
    "    for j in range(NHidden):\n",
    "        for k in range(NOutput):\n",
    "            grad_jk_x = 1/NOutput*y_diff[k]*layer_hidden[j]\n",
    "            grad_jk = np.append(grad_jk, grad_jk_x)\n",
    "\n",
    "    grad_ij = np.array([])\n",
    "    for i in range(NInput):\n",
    "        for j in range(NHidden):\n",
    "            sum_w_delta = 0\n",
    "            sum_w_delta = np.dot(mat_wjk[:,j],y_diff)\n",
    "\n",
    "            grad_ij_x = 1/NHidden*sum_w_delta*sigmoid_derivative(layer_hidden[j])*vec_X[i]\n",
    "            grad_ij = np.append(grad_ij, grad_ij_x)\n",
    "\n",
    "    grad_ij = np.append(grad_ij, grad_jk)\n",
    "    grad_L = np.array(grad_ij)\n",
    "    grad_L = grad_L.flatten()\n",
    "\n",
    "    return (L, grad_L)\n",
    "\n",
    "# Minimizes \n",
    "def minimize(loss_function, vec_w, mat_X, vec_true_y, NInput, NHidden, NOutput, learning_rate=0.01, max_Iter=100):\n",
    "    # Number samples\n",
    "    S = mat_X.shape[1]\n",
    "    L_history = np.array([])\n",
    "    for i in range(max_Iter):\n",
    "        # Save loss function after each epoch\n",
    "        [L, grad_L] = loss_function(vec_w, mat_X[:,1], vec_true_y, NInput, NHidden, NOutput)\n",
    "        L_history = np.append(L_history,L)\n",
    "\n",
    "        # One whole epoch of all samples\n",
    "        for sample in range(S):\n",
    "            [L, grad_L] = loss_function(vec_w, mat_X[:,sample], vec_true_y, NInput, NHidden, NOutput)\n",
    "            vec_w = vec_w - learning_rate * grad_L\n",
    "\n",
    "            if (i % 10 == 1):\n",
    "                learning_rate = learning_rate * 0.8\n",
    "    # Returns optimal weight vector and history of loss function\n",
    "    return [vec_w, L_history] \n",
    "\n",
    "def compute_accuracy(vec_bestclass, vec_true_label):\n",
    "    vec_true_false = vec_true_label[vec_bestclass == vec_true_label]\n",
    "    return len(vec_true_false)/len(vec_true_label[0])\n"
   ]
  },
  {
   "cell_type": "markdown",
   "metadata": {},
   "source": [
    "100 Bilder, 2 Epochen dauern schon 70 Sekunden aufgrund der ganzen for loops"
   ]
  },
  {
   "cell_type": "code",
   "execution_count": 18,
   "metadata": {},
   "outputs": [
    {
     "name": "stdout",
     "output_type": "stream",
     "text": [
      "Accuracy: 0.0\n"
     ]
    },
    {
     "name": "stderr",
     "output_type": "stream",
     "text": [
      "<ipython-input-15-222e10395168>:75: DeprecationWarning: elementwise comparison failed; this will raise an error in the future.\n",
      "  vec_true_false = vec_true_label[vec_bestclass == vec_true_label]\n"
     ]
    }
   ],
   "source": [
    "(NFrame, NRow, NCol) = train_images.shape\n",
    "train_images_feature_vec = matrix2vector(train_images)\n",
    "mat_X = train_images_feature_vec[:,0:100]\n",
    "vec_true_y = digit_to_binary_vec(train_labels[:,0:100],10)\n",
    "\n",
    "NInput = 785\n",
    "NHidden = 10\n",
    "NOutput = 10\n",
    "\n",
    "vec_w_init = np.zeros(NInput*NHidden+NHidden*NOutput)\n",
    "\n",
    "# Gradient Descent of Cross entropy loss function\n",
    "nn_gradient_param = [vec_w_init, mat_X, vec_true_y, NInput, NHidden, NOutput]\n",
    "[vec_w_optimal, L_history] = minimize(nn_gradient_try1, *nn_gradient_param, learning_rate=0.1, max_Iter=2)\n",
    "vec_bestclass = nn_forward(vec_w_optimal, mat_X, NInput, NHidden, NOutput)\n",
    "print(f\"Accuracy: {compute_accuracy(vec_bestclass, train_labels)}\")"
   ]
  },
  {
   "cell_type": "code",
   "execution_count": 20,
   "metadata": {},
   "outputs": [
    {
     "data": {
      "text/plain": [
       "[<matplotlib.lines.Line2D at 0x1ce9a0b7040>]"
      ]
     },
     "execution_count": 20,
     "metadata": {},
     "output_type": "execute_result"
    },
    {
     "data": {
      "image/png": "[encoded data removed]",
      "text/plain": [
       "<Figure size 432x288 with 1 Axes>"
      ]
     },
     "metadata": {
      "needs_background": "light"
     },
     "output_type": "display_data"
    }
   ],
   "source": [
    "plt.plot(L_history)"
   ]
  },
  {
   "cell_type": "markdown",
   "metadata": {},
   "source": [
    "Um zu überprüfen, ob mit einem schnelleren Code und nach mehr Epochen das Neuronale Netz doch bessere Ergebnisse liefert, habe ich es nochmal über Matrixmultiplikationen geschrieben. Es ergibt sich aber keine große Verbesserung, außer, dass es viels schneller läuft"
   ]
  },
  {
   "cell_type": "code",
   "execution_count": 26,
   "metadata": {},
   "outputs": [],
   "source": [
    "def nn_gradient_try2(vec_w, vec_X, vec_true_y, NInput, NHidden, NOutput):\n",
    "    # i=input, j=hidden, k=output\n",
    "    vec_X = mat_X[:,1]\n",
    "    vec_true_y = vec_true[:,1]\n",
    "\n",
    "    mat_wij = vec_w[0:NInput*NHidden].reshape(NHidden,NInput)\n",
    "    mat_wjk = vec_w[NInput*NHidden:].reshape(NOutput,NHidden)\n",
    "\n",
    "    layer_hidden = mat_wij @ vec_X\n",
    "    layer_hidden = np.expand_dims(layer_hidden,axis=1) # (NHidden,1)\n",
    "    layer_hidden = sigmoid(layer_hidden)\n",
    "    # vec_output_hidden = np.append(vec_output_hidden, output_hidden)\n",
    "    # print(f\"mat_wjk: {mat_wjk.shape}, layer_hidden: {layer_hidden.shape}\")\n",
    "    layer_output = mat_wjk @ layer_hidden # shape: (NOutput, NHidden) @ (NHidden,1) = (NOutput,1)\n",
    "    layer_output = sigmoid(layer_output) # (NOutput,1)\n",
    "\n",
    "    y_estimate = layer_output\n",
    "    # print(f\"layer_output: {layer_output.shape}\")\n",
    "    y_estimate[y_estimate[:] == 0] += 10**-10\n",
    "    y_estimate[y_estimate[:] == 1] -= 10**-10\n",
    "\n",
    "    # Cross entropy loss function\n",
    "    L = -1/NOutput * np.sum(vec_true_y*np.log(y_estimate)+(1-vec_true_y)*np.log(1-y_estimate)) # scalar\n",
    "\n",
    "\n",
    "    # grad_L must have same dimensions as vec_w\n",
    "    grad_L = []\n",
    "\n",
    "    # Get all weights for each neuron in hidden layer = one row of mat_wjk (all k's)\n",
    "    # After that concatenate the weights for each neuron in the hidden layer for one vector\n",
    "    vec_true_y = np.expand_dims(vec_true_y, axis=1)\n",
    "    y_diff = y_estimate-vec_true_y\n",
    "    grad_jk = np.zeros(NHidden*NOutput)\n",
    "\n",
    "    grad_jk = 1/NOutput*y_diff*layer_hidden.T\n",
    "    grad_jk = grad_jk.flatten()\n",
    "\n",
    "    sum_w_delta = mat_wjk.T@y_diff\n",
    "    grad_ij = 1/NHidden*sum_w_delta*sigmoid_derivative(layer_hidden)*vec_X.T\n",
    "\n",
    "    grad_ij = np.append(grad_ij, grad_jk)\n",
    "    grad_L = grad_ij.flatten()\n",
    "    \n",
    "    return (L, grad_L)\n"
   ]
  },
  {
   "cell_type": "code",
   "execution_count": 27,
   "metadata": {},
   "outputs": [
    {
     "name": "stdout",
     "output_type": "stream",
     "text": [
      "Accuracy: 0.0\n"
     ]
    },
    {
     "name": "stderr",
     "output_type": "stream",
     "text": [
      "<ipython-input-25-3d9d208bed0c>:75: DeprecationWarning: elementwise comparison failed; this will raise an error in the future.\n",
      "  vec_true_false = vec_true_label[vec_bestclass == vec_true_label]\n"
     ]
    }
   ],
   "source": [
    "(NFrame, NRow, NCol) = train_images.shape\n",
    "train_images_feature_vec = matrix2vector(train_images)\n",
    "# Kleinerer Datensatz zum Testen\n",
    "mat_X = train_images_feature_vec[:,0:100]\n",
    "vec_true_y = digit_to_binary_vec(train_labels[:,0:100],10)\n",
    "\n",
    "NInput = 785\n",
    "NHidden = 10\n",
    "NOutput = 10\n",
    "\n",
    "vec_w_init = np.zeros(NInput*NHidden+NHidden*NOutput)\n",
    "\n",
    "# Gradient Descent of Cross entropy loss function\n",
    "nn_gradient_param = [vec_w_init, mat_X, vec_true_y, NInput, NHidden, NOutput]\n",
    "[vec_w_optimal, L_history] = minimize(nn_gradient_try2, *nn_gradient_param, learning_rate=0.1, max_Iter=500)\n",
    "vec_bestclass = nn_forward(vec_w_optimal, mat_X, NInput, NHidden, NOutput)\n",
    "print(f\"Accuracy: {compute_accuracy(vec_bestclass, train_labels)}\")"
   ]
  },
  {
   "cell_type": "code",
   "execution_count": 28,
   "metadata": {},
   "outputs": [
    {
     "data": {
      "text/plain": [
       "[<matplotlib.lines.Line2D at 0x1ce99ff11c0>]"
      ]
     },
     "execution_count": 28,
     "metadata": {},
     "output_type": "execute_result"
    },
    {
     "data": {
      "image/png": "[encoded data removed]",
      "text/plain": [
       "<Figure size 432x288 with 1 Axes>"
      ]
     },
     "metadata": {
      "needs_background": "light"
     },
     "output_type": "display_data"
    }
   ],
   "source": [
    "plt.plot(L_history)"
   ]
  },
  {
   "cell_type": "markdown",
   "metadata": {},
   "source": [
    "# Notes"
   ]
  },
  {
   "cell_type": "code",
   "execution_count": null,
   "metadata": {},
   "outputs": [
    {
     "name": "stdout",
     "output_type": "stream",
     "text": [
      "(3, 2, 2)\n",
      "Before Reshape\n",
      " [[[1.1 1.2]\n",
      "  [1.3 1.4]]\n",
      "\n",
      " [[2.1 2.2]\n",
      "  [2.3 2.4]]\n",
      "\n",
      " [[3.1 3.2]\n",
      "  [3.3 3.4]]] \n",
      "\n",
      "Correct Reshape: Each Column is one feature vector = one image [[1.1 2.1 3.1]\n",
      " [1.2 2.2 3.2]\n",
      " [1.3 2.3 3.3]\n",
      " [1.4 2.4 3.4]] \n",
      "\n",
      "Wrong Reshape. The .reshape() fills up the new matrix row by row. But we want the images filled up column by column [[1.1 1.2 1.3]\n",
      " [1.4 2.1 2.2]\n",
      " [2.3 2.4 3.1]\n",
      " [3.2 3.3 3.4]]\n"
     ]
    }
   ],
   "source": [
    "# Nr. 1\n",
    "# Use:\n",
    "# images = images.reshape(images.shape[0], (images.shape[1] * images.shape[2]))\n",
    "# images = images.transpose()\n",
    "\n",
    "# Instead of this without tranpose\n",
    "# images = images.reshape((images.shape[1] * images.shape[2]), images.shape[0]) \n",
    "\n",
    "# Explaination\n",
    "images = np.array([[[1.1,1.2],[1.3,1.4]], [[2.1,2.2],[2.3,2.4]], [[3.1,3.2],[3.3,3.4]]])\n",
    "print(images.shape) # --> Just like (N,28,28) as in mnist\n",
    "print(\"Before Reshape\\n\", images, \"\\n\")\n",
    "images_correct = images.reshape(images.shape[0], (images.shape[1] * images.shape[2]))\n",
    "images_correct = images_correct.transpose()\n",
    "print(\"Correct Reshape: Each Column is one feature vector = one image\", images_correct, \"\\n\")\n",
    "\n",
    "images_wrong = images.reshape((images.shape[1] * images.shape[2]), images.shape[0]) \n",
    "print(\"Wrong Reshape. The .reshape() fills up the new matrix row by row. But we want the images filled up column by column\", images_wrong)"
   ]
  }
 ],
 "metadata": {
  "kernelspec": {
   "display_name": "Python 3.9.7 ('base')",
   "language": "python",
   "name": "python3"
  },
  "language_info": {
   "codemirror_mode": {
    "name": "ipython",
    "version": 3
   },
   "file_extension": ".py",
   "mimetype": "text/x-python",
   "name": "python",
   "nbconvert_exporter": "python",
   "pygments_lexer": "ipython3",
   "version": "3.8.3"
  },
  "orig_nbformat": 4,
  "vscode": {
   "interpreter": {
    "hash": "0563604907e5a72d17c413dfa60d744d433f248aafeea0a989a8815e85f310ee"
   }
  }
 },
 "nbformat": 4,
 "nbformat_minor": 2
}
