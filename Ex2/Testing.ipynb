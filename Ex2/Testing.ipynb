{
 "cells": [
  {
   "cell_type": "markdown",
   "metadata": {},
   "source": [
    "# Exercise 2 Part 1"
   ]
  },
  {
   "cell_type": "code",
   "execution_count": 1,
   "metadata": {},
   "outputs": [],
   "source": [
    "import numpy as np\n",
    "import matplotlib.pyplot as plt"
   ]
  },
  {
   "cell_type": "code",
   "execution_count": 7,
   "metadata": {},
   "outputs": [
    {
     "data": {
      "text/plain": [
       "(array([  1.,   4.,   2.,   4.,   5.,  23.,  20.,  21.,  44.,  44.,  78.,\n",
       "         95., 120., 175., 208., 271., 293., 373., 434., 472., 504., 545.,\n",
       "        606., 587., 590., 557., 530., 543., 493., 425., 392., 325., 258.,\n",
       "        235., 186., 133.,  99.,  75.,  76.,  49.,  35.,  23.,  18.,  11.,\n",
       "          6.,   3.,   4.,   3.,   2.]),\n",
       " array([-3.44149596, -3.21790144, -2.99430691, -2.77071239, -2.54711786,\n",
       "        -2.32352334, -2.09992881, -1.87633429, -1.65273976, -1.42914524,\n",
       "        -1.20555071, -0.98195619, -0.75836166, -0.53476714, -0.31117261,\n",
       "        -0.08757809,  0.13601644,  0.35961096,  0.58320549,  0.80680001,\n",
       "         1.03039454,  1.25398907,  1.47758359,  1.70117812,  1.92477264,\n",
       "         2.14836717,  2.37196169,  2.59555622,  2.81915074,  3.04274527,\n",
       "         3.26633979,  3.48993432,  3.71352884,  3.93712337,  4.16071789,\n",
       "         4.38431242,  4.60790694,  4.83150147,  5.05509599,  5.27869052,\n",
       "         5.50228504,  5.72587957,  5.94947409,  6.17306862,  6.39666314,\n",
       "         6.62025767,  6.84385219,  7.06744672,  7.29104124,  7.51463577]),\n",
       " <a list of 49 Patch objects>)"
      ]
     },
     "execution_count": 7,
     "metadata": {},
     "output_type": "execute_result"
    },
    {
     "data": {
      "image/png": "[encoded data removed]",
      "text/plain": [
       "<Figure size 432x288 with 1 Axes>"
      ]
     },
     "metadata": {
      "needs_background": "light"
     },
     "output_type": "display_data"
    }
   ],
   "source": [
    "mu = 2\n",
    "sigma = 1.5\n",
    "x = np.random.normal(mu, sigma, 10000)\n",
    "bins = np.linspace(np.min(x), np.max(x), 50)\n",
    "plt.hist(x, bins)"
   ]
  },
  {
   "cell_type": "code",
   "execution_count": 10,
   "metadata": {},
   "outputs": [],
   "source": [
    "mu_computed = np.mean(x)\n",
    "std_computed = np.std(x)"
   ]
  },
  {
   "cell_type": "code",
   "execution_count": 11,
   "metadata": {},
   "outputs": [],
   "source": [
    "z = (x-mu_computed)/std_computed"
   ]
  },
  {
   "cell_type": "code",
   "execution_count": 33,
   "metadata": {},
   "outputs": [
    {
     "data": {
      "text/plain": [
       "[<matplotlib.lines.Line2D at 0x23a93b9f940>]"
      ]
     },
     "execution_count": 33,
     "metadata": {},
     "output_type": "execute_result"
    },
    {
     "data": {
      "image/png": "[encoded data removed]",
      "text/plain": [
       "<Figure size 432x288 with 1 Axes>"
      ]
     },
     "metadata": {
      "needs_background": "light"
     },
     "output_type": "display_data"
    }
   ],
   "source": [
    "mu = 0\n",
    "sigma = 1\n",
    "z_sum = np.sum(z)\n",
    "plt.hist(z,bins)\n",
    "x_gauss = np.linspace(-3,3,1000)\n",
    "def gauss(x, mu, sigma):\n",
    "    return 1.0/(sigma*np.sqrt(2*np.pi))*np.exp(-1/2*((x-mu)/sigma)**2)*2200\n",
    "\n",
    "plt.plot(x_gauss, gauss(x_gauss, mu, sigma))"
   ]
  },
  {
   "cell_type": "code",
   "execution_count": null,
   "metadata": {},
   "outputs": [],
   "source": []
  }
 ],
 "metadata": {
  "interpreter": {
   "hash": "c78f920997a3a6581c3194d26f316af68717cea79f71daede8c67743d56a1b4f"
  },
  "kernelspec": {
   "display_name": "Python 3.8.3 ('base')",
   "language": "python",
   "name": "python3"
  },
  "language_info": {
   "codemirror_mode": {
    "name": "ipython",
    "version": 3
   },
   "file_extension": ".py",
   "mimetype": "text/x-python",
   "name": "python",
   "nbconvert_exporter": "python",
   "pygments_lexer": "ipython3",
   "version": "3.8.3"
  },
  "orig_nbformat": 4
 },
 "nbformat": 4,
 "nbformat_minor": 2
}
